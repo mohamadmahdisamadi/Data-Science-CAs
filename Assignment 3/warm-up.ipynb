{
 "cells": [
  {
   "cell_type": "markdown",
   "metadata": {},
   "source": [
    "### Importing the required libraries"
   ]
  },
  {
   "cell_type": "code",
   "execution_count": 12,
   "metadata": {},
   "outputs": [
    {
     "data": {
      "text/html": [
       "<style>pre { white-space: pre !important; }</style>"
      ],
      "text/plain": [
       "<IPython.core.display.HTML object>"
      ]
     },
     "metadata": {},
     "output_type": "display_data"
    }
   ],
   "source": [
    "from pyspark.sql import SparkSession\n",
    "from pyspark.sql import functions as F\n",
    "from IPython.display import display, HTML\n",
    "from pyspark.sql.types import FloatType\n",
    "\n",
    "display(HTML('<style>pre { white-space: pre !important; }</style>'))"
   ]
  },
  {
   "cell_type": "markdown",
   "metadata": {},
   "source": [
    "## Warming up"
   ]
  },
  {
   "cell_type": "code",
   "execution_count": 13,
   "metadata": {},
   "outputs": [],
   "source": [
    "def read_csv(path):\n",
    "    spark = SparkSession.builder.appName(\"readCSV\").getOrCreate()\n",
    "    df = spark.read.csv(path, header=True)\n",
    "    return df\n",
    "\n",
    "\n",
    "FILE_PATH = \"stocks.csv\"\n",
    "df = read_csv(path=FILE_PATH)"
   ]
  },
  {
   "cell_type": "markdown",
   "metadata": {},
   "source": [
    "### Preprocessing the data"
   ]
  },
  {
   "cell_type": "code",
   "execution_count": 14,
   "metadata": {},
   "outputs": [],
   "source": [
    "def round_df(df, r):\n",
    "    string_columns = [\"Date\"]\n",
    "    numeric_columns = [col for col in df.columns if col not in string_columns]\n",
    "    rounded_df = df.select(\n",
    "        *(string_columns + [F.round(F.col(c), r).alias(c) for c in numeric_columns]))\n",
    "    return rounded_df\n",
    "\n",
    "\n",
    "df = round_df(df=df, r=2)"
   ]
  },
  {
   "cell_type": "code",
   "execution_count": 15,
   "metadata": {},
   "outputs": [],
   "source": [
    "def task1(df):\n",
    "    df.show()\n",
    "\n",
    "\n",
    "def task2(df):\n",
    "    df.printSchema()\n",
    "\n",
    "\n",
    "def task3(df):\n",
    "    filtered_df = df.filter(df[\"Close\"] < 500)\n",
    "    filtered_df.select(\"Open\", \"Close\", \"Volume\").show()\n",
    "\n",
    "\n",
    "def task4(df):\n",
    "    filtered_df = df.filter((df[\"Close\"] < 200) & (df[\"Open\"] > 200))\n",
    "    filtered_df.show()\n",
    "\n",
    "\n",
    "def task5(df):\n",
    "    df = df.withColumn(\"Year\", F.split(F.col(\"Date\"), \"-\")[0])\n",
    "    df = df.withColumn('Year', F.col('Year').cast(FloatType()))\n",
    "\n",
    "    return df\n",
    "\n",
    "\n",
    "def task6(df):\n",
    "    min_volume_by_year_df = df.groupBy(\"Year\").agg(\n",
    "        F.min(\"Volume\").alias(\"Min Volume\"))\n",
    "    min_volume_by_year_df = min_volume_by_year_df.orderBy(\"Year\")\n",
    "    return min_volume_by_year_df\n",
    "\n",
    "\n",
    "def task7(df):\n",
    "    df = df.withColumn(\"Year\", F.split(F.col(\"Date\"), \"-\")[0])\n",
    "    df = df.withColumn(\"Month\", F.split(F.col(\"Date\"), \"-\")[1])\n",
    "\n",
    "    max_low_by_year_month_df = df.groupBy(\"Year\", \"Month\").agg(\n",
    "        F.max(\"Low\").alias(\"Max Low Price\"))\n",
    "    max_low_by_year_month_df = max_low_by_year_month_df.orderBy(\n",
    "        \"Year\", \"Month\")\n",
    "    max_low_by_year_month_df.show(df.count())\n",
    "\n",
    "\n",
    "def task8(df):\n",
    "    mean_value = df.select(F.mean(df[\"High\"]).alias(\"mean\")).first()[0]\n",
    "    std_deviation = df.select(F.stddev(df[\"High\"]).alias(\"stddev\")).first()[0]\n",
    "    print(\"Mean:\", round(mean_value, 2))\n",
    "    print(\"Standard Deviation:\", round(std_deviation, 2))"
   ]
  },
  {
   "cell_type": "code",
   "execution_count": 16,
   "metadata": {},
   "outputs": [
    {
     "name": "stdout",
     "output_type": "stream",
     "text": [
      "root\n",
      " |-- Date: string (nullable = true)\n",
      " |-- Open: double (nullable = true)\n",
      " |-- High: double (nullable = true)\n",
      " |-- Low: double (nullable = true)\n",
      " |-- Close: double (nullable = true)\n",
      " |-- Volume: double (nullable = true)\n",
      " |-- Adj Close: double (nullable = true)\n",
      "\n"
     ]
    }
   ],
   "source": [
    "task2(df=df)"
   ]
  },
  {
   "cell_type": "code",
   "execution_count": 17,
   "metadata": {},
   "outputs": [
    {
     "name": "stdout",
     "output_type": "stream",
     "text": [
      "+------+------+----------+\n",
      "|  Open| Close|    Volume|\n",
      "+------+------+----------+\n",
      "|213.43|214.01|1.234324E8|\n",
      "| 214.6|214.38|1.504762E8|\n",
      "|214.38|210.97|  1.3804E8|\n",
      "|211.75|210.58|1.192828E8|\n",
      "| 210.3|211.98|1.119027E8|\n",
      "| 212.8|210.11|1.155574E8|\n",
      "|209.19|207.72|1.486149E8|\n",
      "|207.87|210.65| 1.51473E8|\n",
      "|210.11|209.43|1.082235E8|\n",
      "|210.93|205.93|1.485169E8|\n",
      "|208.33|215.04|1.825019E8|\n",
      "|214.91|211.73|1.530382E8|\n",
      "|212.08|208.07|1.520386E8|\n",
      "|206.78|197.75|2.204419E8|\n",
      "|202.51|203.07|2.664249E8|\n",
      "|205.95|205.94|4.667775E8|\n",
      "|206.85|207.88|4.306421E8|\n",
      "|204.93|199.29|2.933756E8|\n",
      "|201.08|192.06|3.114881E8|\n",
      "|192.37|194.73|1.874691E8|\n",
      "+------+------+----------+\n",
      "only showing top 20 rows\n",
      "\n"
     ]
    }
   ],
   "source": [
    "\n",
    "task3(df=df)"
   ]
  },
  {
   "cell_type": "code",
   "execution_count": 18,
   "metadata": {},
   "outputs": [
    {
     "name": "stdout",
     "output_type": "stream",
     "text": [
      "+----------+------+-----+------+------+----------+---------+\n",
      "|      Date|  Open| High|   Low| Close|    Volume|Adj Close|\n",
      "+----------+------+-----+------+------+----------+---------+\n",
      "|2010-01-22|206.78|207.5|197.16|197.75|2.204419E8|    25.62|\n",
      "|2010-01-28|204.93|205.5| 198.7|199.29|2.933756E8|    25.82|\n",
      "|2010-01-29|201.08|202.2|190.25|192.06|3.114881E8|    24.88|\n",
      "+----------+------+-----+------+------+----------+---------+\n",
      "\n"
     ]
    }
   ],
   "source": [
    "\n",
    "task4(df=df)"
   ]
  },
  {
   "cell_type": "code",
   "execution_count": 19,
   "metadata": {},
   "outputs": [],
   "source": [
    "\n",
    "df = task5(df=df)"
   ]
  },
  {
   "cell_type": "code",
   "execution_count": 20,
   "metadata": {},
   "outputs": [
    {
     "name": "stdout",
     "output_type": "stream",
     "text": [
      "+------+----------+\n",
      "|  Year|Min Volume|\n",
      "+------+----------+\n",
      "|2010.0| 3.93736E7|\n",
      "|2011.0| 4.49155E7|\n",
      "|2012.0| 4.39383E7|\n",
      "|2013.0| 4.18887E7|\n",
      "|2014.0| 1.44796E7|\n",
      "|2015.0| 1.30464E7|\n",
      "|2016.0| 1.14759E7|\n",
      "+------+----------+\n",
      "\n"
     ]
    }
   ],
   "source": [
    "task6(df=df).show()"
   ]
  },
  {
   "cell_type": "code",
   "execution_count": 21,
   "metadata": {},
   "outputs": [
    {
     "name": "stdout",
     "output_type": "stream",
     "text": [
      "+----+-----+-------------+\n",
      "|Year|Month|Max Low Price|\n",
      "+----+-----+-------------+\n",
      "|2010|   01|       213.25|\n",
      "|2010|   02|        202.0|\n",
      "|2010|   03|       234.46|\n",
      "|2010|   04|       268.19|\n",
      "|2010|   05|       262.88|\n",
      "|2010|   06|        271.5|\n",
      "|2010|   07|        260.3|\n",
      "|2010|   08|       260.55|\n",
      "|2010|   09|       291.01|\n",
      "|2010|   10|       314.29|\n",
      "|2010|   11|       316.76|\n",
      "|2010|   12|        325.1|\n",
      "|2011|   01|       344.44|\n",
      "|2011|   02|        360.5|\n",
      "|2011|   03|       357.75|\n",
      "|2011|   04|        350.3|\n",
      "|2011|   05|       346.88|\n",
      "|2011|   06|       344.65|\n",
      "|2011|   07|       399.68|\n",
      "|2011|   08|       392.37|\n",
      "|2011|   09|        412.0|\n",
      "|2011|   10|       415.99|\n",
      "|2011|   11|       401.56|\n",
      "|2011|   12|       403.49|\n",
      "|2012|   01|       453.07|\n",
      "|2012|   02|        535.7|\n",
      "|2012|   03|       610.31|\n",
      "|2012|   04|        626.0|\n",
      "|2012|   05|       581.23|\n",
      "|2012|   06|        583.1|\n",
      "|2012|   07|        606.0|\n",
      "|2012|   08|       673.54|\n",
      "|2012|   09|       699.57|\n",
      "|2012|   10|       665.55|\n",
      "|2012|   11|       594.17|\n",
      "|2012|   12|        585.5|\n",
      "|2013|   01|       541.63|\n",
      "|2013|   02|       473.25|\n",
      "|2013|   03|       461.78|\n",
      "|2013|   04|       432.07|\n",
      "|2013|   05|       455.81|\n",
      "|2013|   06|       447.39|\n",
      "|2013|   07|       449.43|\n",
      "|2013|   08|        504.0|\n",
      "|2013|   09|       503.48|\n",
      "|2013|   10|       525.11|\n",
      "|2013|   11|       547.81|\n",
      "|2013|   12|       566.41|\n",
      "|2014|   01|       552.02|\n",
      "|2014|   02|       545.61|\n",
      "|2014|   03|       539.59|\n",
      "|2014|   04|        589.8|\n",
      "|2014|   05|        628.9|\n",
      "|2014|   06|       644.47|\n",
      "|2014|   07|        98.25|\n",
      "|2014|   08|        102.2|\n",
      "|2014|   09|       102.72|\n",
      "|2014|   10|       107.21|\n",
      "|2014|   11|       118.05|\n",
      "|2014|   12|       115.29|\n",
      "|2015|   01|       116.85|\n",
      "|2015|   02|       131.17|\n",
      "|2015|   03|       128.32|\n",
      "|2015|   04|       131.15|\n",
      "|2015|   05|        131.4|\n",
      "|2015|   06|       130.05|\n",
      "|2015|   07|        130.7|\n",
      "|2015|   08|       117.52|\n",
      "|2015|   09|       115.44|\n",
      "|2015|   10|       119.45|\n",
      "|2015|   11|       121.62|\n",
      "|2015|   12|       117.81|\n",
      "|2016|   01|       102.41|\n",
      "|2016|   02|        96.65|\n",
      "|2016|   03|       108.88|\n",
      "|2016|   04|       111.33|\n",
      "|2016|   05|        99.25|\n",
      "|2016|   06|        98.96|\n",
      "|2016|   07|       103.68|\n",
      "|2016|   08|       109.21|\n",
      "|2016|   09|       114.04|\n",
      "|2016|   10|       117.45|\n",
      "|2016|   11|        111.4|\n",
      "|2016|   12|       116.78|\n",
      "+----+-----+-------------+\n",
      "\n"
     ]
    }
   ],
   "source": [
    "\n",
    "task7(df=df)"
   ]
  },
  {
   "cell_type": "code",
   "execution_count": 22,
   "metadata": {},
   "outputs": [
    {
     "name": "stdout",
     "output_type": "stream",
     "text": [
      "Mean: 315.91\n",
      "Standard Deviation: 186.9\n"
     ]
    }
   ],
   "source": [
    "\n",
    "task8(df=df)"
   ]
  },
  {
   "cell_type": "markdown",
   "metadata": {},
   "source": [
    "### Tasks :\n",
    "1. Read the csv file correctly!\n",
    "2. Find out about the schema of data.\n",
    "3. For those records with closing price less than 500, select opening, closing and volume\n",
    "and show them.\n",
    "4. Find out records with opening price more than 200 and closing price less than 200.\n",
    "5. Extract the year from the date and save it in a new column.\n",
    "6. Now, for each year, show the minimum volumes traded, shown in a column named\n",
    "‘minVolume’.\n",
    "7. Follow quite the same procedure as the previous step, but now for each year and\n",
    "month, show the highest low price, shown in a column named ‘maxLow’.\n",
    "8. For the last step, calculate mean and standard deviation of high price over the whole\n",
    "data frame and show them in two decimal places."
   ]
  }
 ],
 "metadata": {
  "kernelspec": {
   "display_name": "Python 3",
   "language": "python",
   "name": "python3"
  },
  "language_info": {
   "codemirror_mode": {
    "name": "ipython",
    "version": 3
   },
   "file_extension": ".py",
   "mimetype": "text/x-python",
   "name": "python",
   "nbconvert_exporter": "python",
   "pygments_lexer": "ipython3",
   "version": "3.10.12"
  }
 },
 "nbformat": 4,
 "nbformat_minor": 2
}
