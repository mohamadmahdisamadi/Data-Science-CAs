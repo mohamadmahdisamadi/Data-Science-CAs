{
 "cells": [
  {
   "cell_type": "markdown",
   "metadata": {},
   "source": [
    "### Introduction to Data Science (Computer Assignment number one)\n",
    "\n",
    "### Professors: Bahrak and Yaghoob Zade\n",
    "\n",
    "### Students: Mohamad Mahdi Samadi (810101465) and Kasra Ghorbani Aghil Abadi (810101489)"
   ]
  },
  {
   "cell_type": "markdown",
   "metadata": {},
   "source": [
    "## Hypothesis Testing\n",
    "First let's see what it is. Hypothesis testing is a statistical method used to make decisions based on sample data. There are two hypotheses: the null hypothesis (H0), which is the assumption that there's no effect, and the alternative hypothesis (H1), which is against H0 and claims that there is a difference. We have to choose a significance level (here we set it on 0.05 which is usualy used in hypothesis tests), which is the probability of rejecting H0 when it is true. p-value is the probability of observing the test statistic or a more extreme value, assuming the null hypothesis is true. Last step is to make the desicion whether H0 is true or not. If the p-value is less than alpha, reject H0. If the p-value is greater than alpha, fail to reject H0."
   ]
  },
  {
   "cell_type": "markdown",
   "metadata": {},
   "source": [
    "### Imports and defines"
   ]
  },
  {
   "cell_type": "code",
   "execution_count": 1669,
   "metadata": {},
   "outputs": [],
   "source": [
    "import random\n",
    "import numpy as np\n",
    "import pandas as pd\n",
    "from scipy import stats\n",
    "import matplotlib.pyplot as plt\n",
    "\n",
    "p = 0.55\n",
    "null_hypothesis_coin_test = 0.5\n",
    "significance_level = 0.05"
   ]
  },
  {
   "cell_type": "markdown",
   "metadata": {},
   "source": [
    "## Unfair Coin"
   ]
  },
  {
   "cell_type": "markdown",
   "metadata": {},
   "source": [
    "This function is really simple. it simulates flipping a coin with the given probability of landing heads (1). It repeats the flipping 'sample_size' times."
   ]
  },
  {
   "cell_type": "code",
   "execution_count": 1670,
   "metadata": {},
   "outputs": [],
   "source": [
    "def flip_coin(sample_size, p):\n",
    "    return [1 if random.uniform(0, 1) <= p else 0 for _ in range(sample_size)]\n"
   ]
  },
  {
   "cell_type": "markdown",
   "metadata": {},
   "source": [
    "In cases like this where the variance isn't known, We have to estimate it in a unbiased way."
   ]
  },
  {
   "cell_type": "code",
   "execution_count": 1671,
   "metadata": {},
   "outputs": [],
   "source": [
    "def estimate_variance(sample):\n",
    "    X_bar = np.mean(sample)\n",
    "    S_squared = 0\n",
    "    for Xi in sample:\n",
    "        S_squared += np.power((Xi - X_bar), 2)\n",
    "    return S_squared / (len(sample)-1)"
   ]
  },
  {
   "cell_type": "markdown",
   "metadata": {},
   "source": [
    "Two methods of hypothesis testing."
   ]
  },
  {
   "cell_type": "code",
   "execution_count": 1672,
   "metadata": {},
   "outputs": [],
   "source": [
    "def test_by_confidence_interval(mu, S, n):\n",
    "    std_err = S / np.sqrt(n)\n",
    "    margin_err = 1.96 * std_err\n",
    "    confidence_interval = [mu - margin_err, mu + margin_err]\n",
    "    return confidence_interval    \n",
    "\n",
    "def test_by_pvalue(mu, S, n):\n",
    "    std_err = S / np.sqrt(n)\n",
    "    z_score = (mu - null_hypothesis_coin_test) / std_err\n",
    "    p_value = 2 * stats.norm.sf(abs(z_score))\n",
    "    return p_value"
   ]
  },
  {
   "cell_type": "markdown",
   "metadata": {},
   "source": [
    "Just a simple function to run the test on different sample sizes."
   ]
  },
  {
   "cell_type": "code",
   "execution_count": 1673,
   "metadata": {},
   "outputs": [
    {
     "data": {
      "text/html": [
       "<div>\n",
       "<style scoped>\n",
       "    .dataframe tbody tr th:only-of-type {\n",
       "        vertical-align: middle;\n",
       "    }\n",
       "\n",
       "    .dataframe tbody tr th {\n",
       "        vertical-align: top;\n",
       "    }\n",
       "\n",
       "    .dataframe thead th {\n",
       "        text-align: right;\n",
       "    }\n",
       "</style>\n",
       "<table border=\"1\" class=\"dataframe\">\n",
       "  <thead>\n",
       "    <tr style=\"text-align: right;\">\n",
       "      <th></th>\n",
       "      <th>p-value</th>\n",
       "      <th>accepted by p-value test</th>\n",
       "      <th>confidence interval</th>\n",
       "      <th>is in confidence interval</th>\n",
       "    </tr>\n",
       "  </thead>\n",
       "  <tbody>\n",
       "    <tr>\n",
       "      <th>0</th>\n",
       "      <td>2.716625e-01</td>\n",
       "      <td>Fail to reject H0</td>\n",
       "      <td>(0.422, 0.778)</td>\n",
       "      <td>Fail to reject H0</td>\n",
       "    </tr>\n",
       "    <tr>\n",
       "      <th>1</th>\n",
       "      <td>4.225402e-02</td>\n",
       "      <td>Reject H0</td>\n",
       "      <td>(0.503, 0.697)</td>\n",
       "      <td>Reject H0</td>\n",
       "    </tr>\n",
       "    <tr>\n",
       "      <th>2</th>\n",
       "      <td>1.921026e-05</td>\n",
       "      <td>Reject H0</td>\n",
       "      <td>(0.536, 0.598)</td>\n",
       "      <td>Reject H0</td>\n",
       "    </tr>\n",
       "    <tr>\n",
       "      <th>3</th>\n",
       "      <td>7.508907e-216</td>\n",
       "      <td>Reject H0</td>\n",
       "      <td>(0.546, 0.552)</td>\n",
       "      <td>Reject H0</td>\n",
       "    </tr>\n",
       "  </tbody>\n",
       "</table>\n",
       "</div>"
      ],
      "text/plain": [
       "         p-value accepted by p-value test confidence interval  \\\n",
       "0   2.716625e-01        Fail to reject H0      (0.422, 0.778)   \n",
       "1   4.225402e-02                Reject H0      (0.503, 0.697)   \n",
       "2   1.921026e-05                Reject H0      (0.536, 0.598)   \n",
       "3  7.508907e-216                Reject H0      (0.546, 0.552)   \n",
       "\n",
       "  is in confidence interval  \n",
       "0         Fail to reject H0  \n",
       "1                 Reject H0  \n",
       "2                 Reject H0  \n",
       "3                 Reject H0  "
      ]
     },
     "execution_count": 1673,
     "metadata": {},
     "output_type": "execute_result"
    }
   ],
   "source": [
    "def test_coin(sample_sizes):\n",
    "    result = []\n",
    "    for sample_size in sample_sizes:\n",
    "        sample = flip_coin(sample_size=sample_size, p=p)\n",
    "        X_bar = np.mean(sample)\n",
    "        S = np.sqrt(estimate_variance(sample))\n",
    "        confidence_interval = test_by_confidence_interval(mu=X_bar, S=S, n=sample_size)\n",
    "        pvalue = test_by_pvalue(mu=X_bar, S=S, n=sample_size)\n",
    "        result.append([pvalue, pvalue > significance_level, confidence_interval\n",
    "                       , null_hypothesis_coin_test > confidence_interval[0] and null_hypothesis_coin_test < confidence_interval[1]])    \n",
    "    return result\n",
    "\n",
    "def show_result_coin_test(result):\n",
    "    df = pd.DataFrame(result)\n",
    "    df.columns = [\"p-value\", \"accepted by p-value test\"\n",
    "                  ,\"confidence interval\", \"is in confidence interval\"]\n",
    "    df[\"confidence interval\"] = df[\"confidence interval\"].apply(lambda x: (round(x[0], 3), round(x[1], 3)))\n",
    "    df[\"accepted by p-value test\"] = df[\"accepted by p-value test\"].apply(lambda x: \"Fail to reject H0\" if x else \"Reject H0\")\n",
    "    df[\"is in confidence interval\"] = df[\"is in confidence interval\"].apply(lambda x: \"Fail to reject H0\" if x else \"Reject H0\")\n",
    "    return df\n",
    "\n",
    "sample_sizes = [30, 100, 1000, 100000]\n",
    "result = test_coin(sample_sizes=sample_sizes)\n",
    "show_result_coin_test(result=result)"
   ]
  },
  {
   "cell_type": "markdown",
   "metadata": {},
   "source": [
    "## Job Placement"
   ]
  },
  {
   "cell_type": "markdown",
   "metadata": {},
   "source": [
    "Defined variables used in this part. "
   ]
  },
  {
   "cell_type": "code",
   "execution_count": 1674,
   "metadata": {},
   "outputs": [],
   "source": [
    "null_hypothesis_job_placement = 0 \n",
    "significance_level = 0.05\n",
    "file_path = \"./job_placement.csv\""
   ]
  },
  {
   "cell_type": "markdown",
   "metadata": {},
   "source": [
    "Reading data"
   ]
  },
  {
   "cell_type": "code",
   "execution_count": 1675,
   "metadata": {},
   "outputs": [],
   "source": [
    "def read_file(file_path):\n",
    "    return pd.read_csv(file_path)"
   ]
  },
  {
   "cell_type": "markdown",
   "metadata": {},
   "source": [
    "This function splits students into two groups based on their job placement. As you know all we need is the 'gpa' column of the dataframe."
   ]
  },
  {
   "cell_type": "code",
   "execution_count": 1676,
   "metadata": {},
   "outputs": [],
   "source": [
    "def separate_needed_data(df):\n",
    "    sample1 = df[df[\"placement_status\"] == \"Placed\"][\"gpa\"]\n",
    "    sample2 = df[df[\"placement_status\"] == \"Not Placed\"][\"gpa\"]\n",
    "    return sample1, sample2"
   ]
  },
  {
   "cell_type": "markdown",
   "metadata": {},
   "source": [
    "A simple and not necessarily correct way to check if working alongside studying does or does not effect gpa is to compare the mean of two groups. It seems that working is a good thing while students are still studying."
   ]
  },
  {
   "cell_type": "code",
   "execution_count": 1677,
   "metadata": {},
   "outputs": [
    {
     "data": {
      "text/html": [
       "<div>\n",
       "<style scoped>\n",
       "    .dataframe tbody tr th:only-of-type {\n",
       "        vertical-align: middle;\n",
       "    }\n",
       "\n",
       "    .dataframe tbody tr th {\n",
       "        vertical-align: top;\n",
       "    }\n",
       "\n",
       "    .dataframe thead th {\n",
       "        text-align: right;\n",
       "    }\n",
       "</style>\n",
       "<table border=\"1\" class=\"dataframe\">\n",
       "  <thead>\n",
       "    <tr style=\"text-align: right;\">\n",
       "      <th></th>\n",
       "      <th>mean GPA</th>\n",
       "    </tr>\n",
       "  </thead>\n",
       "  <tbody>\n",
       "    <tr>\n",
       "      <th>Placed</th>\n",
       "      <td>3.761404</td>\n",
       "    </tr>\n",
       "    <tr>\n",
       "      <th>Not placed</th>\n",
       "      <td>3.702308</td>\n",
       "    </tr>\n",
       "  </tbody>\n",
       "</table>\n",
       "</div>"
      ],
      "text/plain": [
       "            mean GPA\n",
       "Placed      3.761404\n",
       "Not placed  3.702308"
      ]
     },
     "execution_count": 1677,
     "metadata": {},
     "output_type": "execute_result"
    }
   ],
   "source": [
    "sample1, sample2 = separate_needed_data(df=read_file(file_path=file_path))\n",
    "df = pd.DataFrame(columns=[\"mean GPA\"])\n",
    "df[\"mean GPA\"] = {\"Placed\": np.mean(sample1), \"Not placed\": np.mean(sample2)}\n",
    "df"
   ]
  },
  {
   "cell_type": "markdown",
   "metadata": {},
   "source": [
    "To be more precise, Here is the boxplot of two groups. As you can see the three quantiles of two groups are about the same."
   ]
  },
  {
   "cell_type": "code",
   "execution_count": 1678,
   "metadata": {},
   "outputs": [
    {
     "data": {
      "image/png": "[encoded data removed]",
      "text/plain": [
       "<Figure size 1500x500 with 2 Axes>"
      ]
     },
     "metadata": {},
     "output_type": "display_data"
    }
   ],
   "source": [
    "fig, (ax0, ax1) = plt.subplots(1, 2, figsize=(15, 5))\n",
    "ax0.boxplot(sample1)\n",
    "ax0.set_xlabel('Placed')\n",
    "ax0.set_ylabel('GPA')\n",
    "ax1.boxplot(sample2)\n",
    "ax1.set_xlabel('Not Placed')\n",
    "ax1.set_ylabel('GPA')\n",
    "plt.show()"
   ]
  },
  {
   "cell_type": "markdown",
   "metadata": {},
   "source": [
    "$$df = \\sum_{i=1}^{n} {(N_i - 1)}"
   ]
  },
  {
   "cell_type": "code",
   "execution_count": 1679,
   "metadata": {},
   "outputs": [],
   "source": [
    "def calc_degres_of_freedom(sample1, sample2):\n",
    "    return (len(sample1) - 1) + (len(sample2) - 1)"
   ]
  },
  {
   "cell_type": "markdown",
   "metadata": {},
   "source": [
    "### Separate variances:\n",
    "$$t-statistic = \\frac{\\bar{X_1} - \\bar{X_2} - H_0} {\\sqrt{\\frac{S_1^2}{n_1} + \\frac{S_2^2}{n_2}}}$$"
   ]
  },
  {
   "cell_type": "markdown",
   "metadata": {},
   "source": [
    "### Equal variances:\n",
    "$$t-statistic = \\frac{\\bar{X_1} - \\bar{X_2} - H_0} {\\sqrt{\\frac{{{S_1^2}\\times{(n_1-1)} + {S_2^2}\\times{(n_2-1)}}}{n_1+n_2-2} \\times (\\frac{1}{n_1} + \\frac{1}{n_2})}}$$"
   ]
  },
  {
   "cell_type": "code",
   "execution_count": 1680,
   "metadata": {},
   "outputs": [],
   "source": [
    "def calc_t_statistic(sample1, sample2, equal_var=False):\n",
    "    X_bar1 = np.mean(sample1)\n",
    "    X_bar2 = np.mean(sample2)\n",
    "    n1, n2 = len(sample1), len(sample2)\n",
    "    if equal_var:\n",
    "        var1, var2 = estimate_variance(sample1), estimate_variance(sample2)\n",
    "        pooled_variance = ((n1-1) * var1 + (n2-1) * var2) / (n1+n2-2)\n",
    "        std_err = np.sqrt(pooled_variance * (1/n1 + 1/n2))        \n",
    "    else:\n",
    "        std_err = np.sqrt(np.var(sample1)/n1 + np.var(sample2)/n2)\n",
    "    return abs(X_bar1 - X_bar2 - null_hypothesis_job_placement) / std_err\n"
   ]
  },
  {
   "cell_type": "markdown",
   "metadata": {},
   "source": [
    "Now that the nedded parameters are ready we can calculate p-value."
   ]
  },
  {
   "cell_type": "code",
   "execution_count": 1681,
   "metadata": {},
   "outputs": [],
   "source": [
    "def calc_p_value(df, t_statistic):\n",
    "    return stats.t.cdf(t_statistic, df)"
   ]
  },
  {
   "cell_type": "code",
   "execution_count": 1682,
   "metadata": {},
   "outputs": [],
   "source": [
    "def judge_hypothesize(p_value, significance_level):\n",
    "    return p_value < significance_level"
   ]
  },
  {
   "cell_type": "markdown",
   "metadata": {},
   "source": [
    "This function tests the sample four times. First time using scipy library and another time by the hand calculated parameters. And for each of them once assuming equal variances for both groups and then assuming that each group has its own variance."
   ]
  },
  {
   "cell_type": "code",
   "execution_count": 1683,
   "metadata": {},
   "outputs": [],
   "source": [
    "def perform_t_test(sample1, sample2):\n",
    "    degree_of_freedom = calc_degres_of_freedom(sample1=sample1, sample2=sample2)\n",
    "    t_statistic, p_value, res = [[None] * 4 for _ in range(3)]\n",
    "\n",
    "    for i in range(2):\n",
    "        t_statistic[i] = calc_t_statistic(sample1=sample1, sample2=sample2, equal_var=bool(i))\n",
    "        p_value[i] = calc_p_value(df=degree_of_freedom, t_statistic=t_statistic[i])\n",
    "        t_statistic[i+2], p_value[i+2] = stats.ttest_ind(sample1, sample2, alternative = \"less\", equal_var=bool(i))\n",
    "\n",
    "    res[i] = (judge_hypothesize(p_value=p_value[i], significance_level=significance_level) for i in range(4))\n",
    "\n",
    "    result = [{\"t-statistic\": t_statistic[i], \"p-value\": p_value[i], \"accepted by t-test\": res[i]} for i in range(4)]\n",
    "    return result\n",
    "\n",
    "def show_result_job_test(result):\n",
    "    df = pd.DataFrame(result, index=[\"separate vars\", \"equal vars\", \"scipy separate\", \"scipy equal\"])\n",
    "    df[\"accepted by t-test\"] = df[\"accepted by t-test\"].apply(lambda x: \"Fail to reject H0\" if x else \"Reject H0\")\n",
    "    return df"
   ]
  },
  {
   "cell_type": "markdown",
   "metadata": {},
   "source": [
    "Running the functions."
   ]
  },
  {
   "cell_type": "code",
   "execution_count": 1684,
   "metadata": {},
   "outputs": [
    {
     "data": {
      "text/html": [
       "<div>\n",
       "<style scoped>\n",
       "    .dataframe tbody tr th:only-of-type {\n",
       "        vertical-align: middle;\n",
       "    }\n",
       "\n",
       "    .dataframe tbody tr th {\n",
       "        vertical-align: top;\n",
       "    }\n",
       "\n",
       "    .dataframe thead th {\n",
       "        text-align: right;\n",
       "    }\n",
       "</style>\n",
       "<table border=\"1\" class=\"dataframe\">\n",
       "  <thead>\n",
       "    <tr style=\"text-align: right;\">\n",
       "      <th></th>\n",
       "      <th>t-statistic</th>\n",
       "      <th>p-value</th>\n",
       "      <th>accepted by t-test</th>\n",
       "    </tr>\n",
       "  </thead>\n",
       "  <tbody>\n",
       "    <tr>\n",
       "      <th>separate vars</th>\n",
       "      <td>4.458121</td>\n",
       "      <td>0.999995</td>\n",
       "      <td>Reject H0</td>\n",
       "    </tr>\n",
       "    <tr>\n",
       "      <th>equal vars</th>\n",
       "      <td>5.105319</td>\n",
       "      <td>1.000000</td>\n",
       "      <td>Fail to reject H0</td>\n",
       "    </tr>\n",
       "    <tr>\n",
       "      <th>scipy separate</th>\n",
       "      <td>4.442633</td>\n",
       "      <td>0.999992</td>\n",
       "      <td>Reject H0</td>\n",
       "    </tr>\n",
       "    <tr>\n",
       "      <th>scipy equal</th>\n",
       "      <td>5.105319</td>\n",
       "      <td>1.000000</td>\n",
       "      <td>Reject H0</td>\n",
       "    </tr>\n",
       "  </tbody>\n",
       "</table>\n",
       "</div>"
      ],
      "text/plain": [
       "                t-statistic   p-value accepted by t-test\n",
       "separate vars      4.458121  0.999995          Reject H0\n",
       "equal vars         5.105319  1.000000  Fail to reject H0\n",
       "scipy separate     4.442633  0.999992          Reject H0\n",
       "scipy equal        5.105319  1.000000          Reject H0"
      ]
     },
     "execution_count": 1684,
     "metadata": {},
     "output_type": "execute_result"
    }
   ],
   "source": [
    "df = read_file(file_path=file_path)\n",
    "sample1, sample2 = separate_needed_data(df=df)\n",
    "result = perform_t_test(sample1=sample1, sample2=sample2)\n",
    "show_result_job_test(result=result)"
   ]
  },
  {
   "cell_type": "markdown",
   "metadata": {},
   "source": [
    "As i mentioned, The t-test was performed twice based on the variance situation. The t-tests revealed that there was a small difference in the t-statistic depending on the assumption of equal or unequal variances. However, this difference did not affect the overall conclusion, as both tests showed that there was no harm in working alongside studying. "
   ]
  },
  {
   "cell_type": "markdown",
   "metadata": {},
   "source": [
    "## Questions\n",
    "Let's answer some qustions."
   ]
  },
  {
   "cell_type": "markdown",
   "metadata": {},
   "source": [
    "### How does increasing the sample size affect your coin test?\n",
    "\n",
    "Sample size plays an important role in statistical tests, including hypothesis testing. With a larger sample size, the test is more likely to detect a true effect, even small ones. The coin test with a larger sample size is more likely to detect the unfairness and reject the null hypothesis that the coin is fair. Also with a larger sample size, the estimate of the true probability of getting heads (or tails) becomes more precise. This is because the standard deviation of the sample decreases as the sample size increases and leads to a smaller confidence interval for the true value. In this problem as a result of increasing the sample size, z-score and p-value whould have extremly small values. It means that the larger the sample is, The more accurate the observation gets and we would decisively reject hypothesises."
   ]
  },
  {
   "cell_type": "markdown",
   "metadata": {},
   "source": [
    "### What are t-statistic, degrees of freedom, and t-distribution in t-test? How can they help us to compare two data sets?\n",
    "*t-statistic*: The t-statistic is a measure of the difference between two sample means based on the variability within the samples. It is used in t-test to decide whether there is a significant difference between the two sample means or not.\n",
    "\n",
    "*Degrees of freedom*: Degrees of freedom (mentioned as 'df' in the code) is the only parameter used in statistical tests that determines the shape of the t-distribution. In our test, the degrees of freedom is calculated as the total number of observations in both samples minus 2. But in fact it's sum of all group sizes minus number of groups. In smaller degrees of freedom, the t-distribution behaves much more cautious than the normal distribution. For example, at lower degrees of freedom, this distribution skews slowly towards zero and still has a significant value at a distance of 3 sigma from the mean.\n",
    "\n",
    "*t-distribution*: The t-distribution is a probability distribution. The shape of the t-distribution depends on the degrees of freedom. But both the t-distribution and the standard normal distribution are symmetric, bell-shaped distributions. They have a single peak at their mean (which is 0). Despite these similarities, the t-distribution and the normal distribution have some differences. the t-distribution has heavier tails (higher kurtosis) compared to the normal distribution, especially when the degrees of freedom are low. This means that extreme values are more likely in the t-distribution than in the normal distribution. As the degrees of freedom increase, the t-distribution becomes more similar to the normal distribution."
   ]
  },
  {
   "cell_type": "markdown",
   "metadata": {},
   "source": [
    "### What are the preliminary conditions for using t-test on our data?\n",
    "Before using a t-test to analyze our data, we should be sure that the data meets certain assumptions or preliminary conditions. These conditions help to be sure that the results of the t-test are valid. Here are some assumptions for using a t-test:\n",
    "\n",
    "The observations within each sample should be independent of one another. This means that the value of one observation should not influence the value of another observation. Also inside each sample we need to have randomness and independency. One of the conditions to reach independency is that the sample must be less than 10 percent of the whole population. Another one is that if there is skewness in the population we have to choose larger sample to deactive the effect of that.\n",
    "\n",
    "Another important assumption is that the variances of the two populations are equal (or at least are really close). If this assumption is violated, we may need to use another test, such as Welch's t-test, which does not assume equal variances.\n",
    "\n",
    "Unlike the z-test we can work with sample sizes less than 30 too. In fact the df gives us more power to work with samples."
   ]
  },
  {
   "cell_type": "markdown",
   "metadata": {},
   "source": [
    "### Read about some other types of tests that are used in scientific research. Write a line about each of them.\n",
    "There are several other statistical tests commonly used in scientific research, each with its specific purpose and assumptions.\n",
    "\n",
    "Analysis of Variance (ANOVA): ANOVA is used to compare the means of three or more groups to determine if they are significantly different from each other. It's a generalized form of t-test.\n",
    "\n",
    "The Kruskal-Wallis H test is a non-parametric alternative to one-way ANOVA, used to compare three or more independent groups when the dependent variable is ordinal or does not meet the normality assumption.\n",
    "\n",
    "Correlation analysis measures the strength and direction of the relationship between two continuous variables. Pearson's correlation is used when both variables are normally distributed, while Spearman's correlation is used when at least one variable is not normally distributed.\n",
    "\n",
    "The Mann-Whitney U test is a non-parametric alternative to the independent samples t-test, used to compare two independent groups when the dependent variable is ordinal or does not meet the normality assumption.\n",
    "\n",
    "The Kolmogorov-Smirnov (KS) test is a non-parametric statistical test used to compare two samples or a sample and a reference probability distribution. It measures the largest absolute difference between the CDFs of them. This test is useful for testing the goodness-of-fit and determining if two samples come from the same distribution."
   ]
  }
 ],
 "metadata": {
  "kernelspec": {
   "display_name": "Python 3",
   "language": "python",
   "name": "python3"
  },
  "language_info": {
   "codemirror_mode": {
    "name": "ipython",
    "version": 3
   },
   "file_extension": ".py",
   "mimetype": "text/x-python",
   "name": "python",
   "nbconvert_exporter": "python",
   "pygments_lexer": "ipython3",
   "version": "3.11.4"
  },
  "orig_nbformat": 4
 },
 "nbformat": 4,
 "nbformat_minor": 2
}
