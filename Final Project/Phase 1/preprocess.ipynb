{
 "cells": [
  {
   "cell_type": "markdown",
   "metadata": {},
   "source": [
    "## DS Project phase 1\n",
    "### Mohammad Mahdi Samadi 810101465\n",
    "### Kasra Ghorbani 810101489"
   ]
  },
  {
   "cell_type": "markdown",
   "metadata": {},
   "source": [
    "#### Import the required libraries"
   ]
  },
  {
   "cell_type": "code",
   "execution_count": 13,
   "metadata": {},
   "outputs": [],
   "source": [
    "import pandas as pd"
   ]
  },
  {
   "cell_type": "markdown",
   "metadata": {},
   "source": [
    "#### Read the CSVs and store them in Pandas DataFrames\n",
    "The data we downloaded from kaggle had 2 initial CSV files. One was called \"raw_wages\" which contained unprocessed and sometimes incomplete columns of data. The other was called \"wages_cleaned\" which contained some new columns of data and also some old columns of data which where sometimes changed. (Salary for example)."
   ]
  },
  {
   "cell_type": "code",
   "execution_count": 14,
   "metadata": {},
   "outputs": [],
   "source": [
    "df_raw = pd.read_csv(\"raw_wages.csv\")\n",
    "df_cleaned = pd.read_csv(\"wages_cleaned.csv\")"
   ]
  },
  {
   "cell_type": "markdown",
   "metadata": {},
   "source": [
    "#### Features provided to us"
   ]
  },
  {
   "cell_type": "code",
   "execution_count": 15,
   "metadata": {},
   "outputs": [
    {
     "name": "stdout",
     "output_type": "stream",
     "text": [
      "raw dataframe columns:\n",
      "Name Club Division Based Nat EU National Caps AT Apps Position Age CR Begins Expires Last Club Last Trans. Fee Salary\n",
      "cleaned dataframe columns:\n",
      "Is_top_5_League Based_rich_nation Is_top_ranked_nation EU_National Caps Apps Age Reputation Is_top_prev_club Last_Transfer_Fee Salary\n"
     ]
    }
   ],
   "source": [
    "print(\"raw dataframe columns:\")\n",
    "print(*df_raw.columns)\n",
    "print(\"cleaned dataframe columns:\")\n",
    "print(*df_cleaned.columns)"
   ]
  },
  {
   "cell_type": "markdown",
   "metadata": {},
   "source": [
    "#### Remove Unnecassary columns\n",
    "We removed 2 types of columns :\n",
    "\n",
    "- Columns which had missing data : They only had values for the first 9 rows of data (Name, Club, Position, Last_Transfer_Fee)\n",
    "\n",
    "- Columns repeated across both dataframes (Salary, EU National, Caps, AT Apps, Age)\n",
    "\n",
    "Then we proceeded to concatenate the 2 dataframes so that we can use the remaining data of both dataframes more easily.\n",
    "\n"
   ]
  },
  {
   "cell_type": "code",
   "execution_count": 16,
   "metadata": {},
   "outputs": [],
   "source": [
    "df_cleaned.drop(['Last_Transfer_Fee'], axis=1, inplace=True)\n",
    "df_raw.drop(['Name', 'Club', 'Position', 'Salary', 'EU National', 'Caps', 'AT Apps', 'Age', \"CR\"], axis=1, inplace=True)\n",
    "df = pd.concat([df_raw, df_cleaned], axis=1)"
   ]
  },
  {
   "cell_type": "markdown",
   "metadata": {},
   "source": [
    "#### Adjust the Last Transfer Fee column :\n",
    "remove symbols and write all fees in the same fashion"
   ]
  },
  {
   "cell_type": "code",
   "execution_count": 17,
   "metadata": {},
   "outputs": [],
   "source": [
    "def fix_LTF(df):\n",
    "    fees = []\n",
    "    for fee in df['Last Trans. Fee']:\n",
    "        fee = fee.replace(\" \", \"\")\n",
    "        \n",
    "        if fee == \"-\" or fee == \"\":\n",
    "            fee = \"0\"\n",
    "            mult = 1\n",
    "        elif fee[-1] == \"K\":\n",
    "            mult = 1000\n",
    "            fee = fee[:-1]\n",
    "        elif fee[-1] == \"M\":\n",
    "            mult = 1000000\n",
    "            fee = fee[:-1]\n",
    "        else:\n",
    "            mult = 1\n",
    "        \n",
    "        fee = fee.replace(\"€\", \"\").replace(\"M\", \"\").replace(\"K\", \"\")\n",
    "        fees.append(float(fee) * mult)\n",
    "    \n",
    "    df['Last Trans. Fee'] = fees\n",
    "    return df\n",
    "\n",
    "df = fix_LTF(df)"
   ]
  },
  {
   "cell_type": "markdown",
   "metadata": {},
   "source": [
    "#### Remove extra spaces from strings"
   ]
  },
  {
   "cell_type": "code",
   "execution_count": 18,
   "metadata": {},
   "outputs": [],
   "source": [
    "for col in df.select_dtypes(include=[object]).columns:\n",
    "    df[col] = df[col].apply(lambda x: x.strip())\n",
    "df = df[df[\"Expires\"] != '-']"
   ]
  },
  {
   "cell_type": "markdown",
   "metadata": {},
   "source": [
    "#### Convert binary based variables to booleans"
   ]
  },
  {
   "cell_type": "code",
   "execution_count": 19,
   "metadata": {},
   "outputs": [],
   "source": [
    "boolean_variables = [\"Is_top_5_League\", \"Based_rich_nation\", \"Is_top_ranked_nation\", \"EU_National\", \"Is_top_prev_club\"]\n",
    "for bool_var in boolean_variables:\n",
    "    df[bool_var] = df[bool_var].apply(lambda x: True if x else False)"
   ]
  },
  {
   "cell_type": "code",
   "execution_count": 20,
   "metadata": {},
   "outputs": [],
   "source": [
    "df[\"Caps\"] = df[\"Caps\"].astype(int)"
   ]
  },
  {
   "cell_type": "markdown",
   "metadata": {},
   "source": [
    "#### Lets have a look into our refined Data :"
   ]
  },
  {
   "cell_type": "code",
   "execution_count": 21,
   "metadata": {},
   "outputs": [
    {
     "name": "stdout",
     "output_type": "stream",
     "text": [
      "<class 'pandas.core.frame.DataFrame'>\n",
      "Index: 40768 entries, 0 to 40790\n",
      "Data columns (total 17 columns):\n",
      " #   Column                Non-Null Count  Dtype  \n",
      "---  ------                --------------  -----  \n",
      " 0   Division              40768 non-null  object \n",
      " 1   Based                 40768 non-null  object \n",
      " 2   Nat                   40768 non-null  object \n",
      " 3   Begins                40768 non-null  object \n",
      " 4   Expires               40768 non-null  object \n",
      " 5   Last Club             40768 non-null  object \n",
      " 6   Last Trans. Fee       40768 non-null  float64\n",
      " 7   Is_top_5_League       40768 non-null  bool   \n",
      " 8   Based_rich_nation     40768 non-null  bool   \n",
      " 9   Is_top_ranked_nation  40768 non-null  bool   \n",
      " 10  EU_National           40768 non-null  bool   \n",
      " 11  Caps                  40768 non-null  int32  \n",
      " 12  Apps                  40768 non-null  int64  \n",
      " 13  Age                   40768 non-null  float64\n",
      " 14  Reputation            40768 non-null  float64\n",
      " 15  Is_top_prev_club      40768 non-null  bool   \n",
      " 16  Salary                40768 non-null  float64\n",
      "dtypes: bool(5), float64(4), int32(1), int64(1), object(6)\n",
      "memory usage: 4.1+ MB\n"
     ]
    }
   ],
   "source": [
    "df.info()"
   ]
  },
  {
   "cell_type": "code",
   "execution_count": 22,
   "metadata": {},
   "outputs": [
    {
     "data": {
      "text/html": [
       "<div>\n",
       "<style scoped>\n",
       "    .dataframe tbody tr th:only-of-type {\n",
       "        vertical-align: middle;\n",
       "    }\n",
       "\n",
       "    .dataframe tbody tr th {\n",
       "        vertical-align: top;\n",
       "    }\n",
       "\n",
       "    .dataframe thead th {\n",
       "        text-align: right;\n",
       "    }\n",
       "</style>\n",
       "<table border=\"1\" class=\"dataframe\">\n",
       "  <thead>\n",
       "    <tr style=\"text-align: right;\">\n",
       "      <th></th>\n",
       "      <th>Last Trans. Fee</th>\n",
       "      <th>Caps</th>\n",
       "      <th>Apps</th>\n",
       "      <th>Age</th>\n",
       "      <th>Reputation</th>\n",
       "      <th>Salary</th>\n",
       "    </tr>\n",
       "  </thead>\n",
       "  <tbody>\n",
       "    <tr>\n",
       "      <th>count</th>\n",
       "      <td>4.076800e+04</td>\n",
       "      <td>40768.000000</td>\n",
       "      <td>40768.000000</td>\n",
       "      <td>40768.000000</td>\n",
       "      <td>40768.000000</td>\n",
       "      <td>4.076800e+04</td>\n",
       "    </tr>\n",
       "    <tr>\n",
       "      <th>mean</th>\n",
       "      <td>6.646104e+05</td>\n",
       "      <td>5.146978</td>\n",
       "      <td>126.360086</td>\n",
       "      <td>25.180436</td>\n",
       "      <td>4593.855254</td>\n",
       "      <td>3.190796e+05</td>\n",
       "    </tr>\n",
       "    <tr>\n",
       "      <th>std</th>\n",
       "      <td>4.422994e+06</td>\n",
       "      <td>13.669244</td>\n",
       "      <td>125.971433</td>\n",
       "      <td>5.327834</td>\n",
       "      <td>1164.582876</td>\n",
       "      <td>2.006623e+06</td>\n",
       "    </tr>\n",
       "    <tr>\n",
       "      <th>min</th>\n",
       "      <td>0.000000e+00</td>\n",
       "      <td>0.000000</td>\n",
       "      <td>0.000000</td>\n",
       "      <td>17.000000</td>\n",
       "      <td>50.000000</td>\n",
       "      <td>1.800000e+02</td>\n",
       "    </tr>\n",
       "    <tr>\n",
       "      <th>25%</th>\n",
       "      <td>0.000000e+00</td>\n",
       "      <td>0.000000</td>\n",
       "      <td>12.000000</td>\n",
       "      <td>21.000000</td>\n",
       "      <td>3885.750000</td>\n",
       "      <td>1.650000e+04</td>\n",
       "    </tr>\n",
       "    <tr>\n",
       "      <th>50%</th>\n",
       "      <td>0.000000e+00</td>\n",
       "      <td>0.000000</td>\n",
       "      <td>91.000000</td>\n",
       "      <td>25.000000</td>\n",
       "      <td>4518.000000</td>\n",
       "      <td>4.450000e+04</td>\n",
       "    </tr>\n",
       "    <tr>\n",
       "      <th>75%</th>\n",
       "      <td>0.000000e+00</td>\n",
       "      <td>3.000000</td>\n",
       "      <td>207.000000</td>\n",
       "      <td>29.000000</td>\n",
       "      <td>5391.000000</td>\n",
       "      <td>1.560000e+05</td>\n",
       "    </tr>\n",
       "    <tr>\n",
       "      <th>max</th>\n",
       "      <td>1.860000e+08</td>\n",
       "      <td>200.000000</td>\n",
       "      <td>799.000000</td>\n",
       "      <td>45.000000</td>\n",
       "      <td>10000.000000</td>\n",
       "      <td>2.034780e+08</td>\n",
       "    </tr>\n",
       "  </tbody>\n",
       "</table>\n",
       "</div>"
      ],
      "text/plain": [
       "       Last Trans. Fee          Caps          Apps           Age  \\\n",
       "count     4.076800e+04  40768.000000  40768.000000  40768.000000   \n",
       "mean      6.646104e+05      5.146978    126.360086     25.180436   \n",
       "std       4.422994e+06     13.669244    125.971433      5.327834   \n",
       "min       0.000000e+00      0.000000      0.000000     17.000000   \n",
       "25%       0.000000e+00      0.000000     12.000000     21.000000   \n",
       "50%       0.000000e+00      0.000000     91.000000     25.000000   \n",
       "75%       0.000000e+00      3.000000    207.000000     29.000000   \n",
       "max       1.860000e+08    200.000000    799.000000     45.000000   \n",
       "\n",
       "         Reputation        Salary  \n",
       "count  40768.000000  4.076800e+04  \n",
       "mean    4593.855254  3.190796e+05  \n",
       "std     1164.582876  2.006623e+06  \n",
       "min       50.000000  1.800000e+02  \n",
       "25%     3885.750000  1.650000e+04  \n",
       "50%     4518.000000  4.450000e+04  \n",
       "75%     5391.000000  1.560000e+05  \n",
       "max    10000.000000  2.034780e+08  "
      ]
     },
     "execution_count": 22,
     "metadata": {},
     "output_type": "execute_result"
    }
   ],
   "source": [
    "df.describe()"
   ]
  },
  {
   "cell_type": "markdown",
   "metadata": {},
   "source": [
    "#### Extracte new meaningful Features from existing ones"
   ]
  },
  {
   "cell_type": "code",
   "execution_count": 23,
   "metadata": {},
   "outputs": [],
   "source": [
    "import warnings\n",
    "warnings.filterwarnings(\"ignore\")\n",
    "df[\"Begins Year\"] = df[\"Begins\"].apply(lambda x: int(x.split(\"/\")[2]))\n",
    "df[\"Expires Year\"] = df[\"Expires\"].apply(lambda x: int(x.split(\"/\")[2]))\n",
    "df.drop([\"Begins\", \"Expires\"], axis=1, inplace=True)\n",
    "\n",
    "df[\"under 30\"] = df[\"Age\"].apply(lambda x: True if x < 30 else False)\n",
    "\n",
    "df[\"Age Signing Contract\"] = df[\"Age\"] - (2024 - df[\"Begins Year\"])\n",
    "df[\"Age Signing Contract\"] = df[\"Age Signing Contract\"].astype(int)\n",
    "\n",
    "df[\"Contract Duration\"] = df[\"Expires Year\"] - df[\"Begins Year\"]\n",
    "\n",
    "df[\"Games Played\"] = df[\"Apps\"] + df[\"Caps\"]"
   ]
  },
  {
   "cell_type": "markdown",
   "metadata": {},
   "source": [
    "#### Save preprocessed dataset into a csv file"
   ]
  },
  {
   "cell_type": "code",
   "execution_count": 24,
   "metadata": {},
   "outputs": [],
   "source": [
    "df.to_csv(\"preprocessed_data.csv\")"
   ]
  }
 ],
 "metadata": {
  "kernelspec": {
   "display_name": "Python 3",
   "language": "python",
   "name": "python3"
  },
  "language_info": {
   "codemirror_mode": {
    "name": "ipython",
    "version": 3
   },
   "file_extension": ".py",
   "mimetype": "text/x-python",
   "name": "python",
   "nbconvert_exporter": "python",
   "pygments_lexer": "ipython3",
   "version": "3.11.4"
  }
 },
 "nbformat": 4,
 "nbformat_minor": 2
}
